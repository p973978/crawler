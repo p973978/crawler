{
 "cells": [
  {
   "cell_type": "code",
   "execution_count": 10,
   "metadata": {},
   "outputs": [],
   "source": [
    "import requests\n",
    "from bs4 import BeautifulSoup\n",
    "\n",
    "headers ={'User-Agent':'Mozilla/5.0 (Windows NT 10.0; Win64; x64) AppleWebKit/537.36 (KHTML, like Gecko) Chrome/81.0.4044.122 Safari/537.36'}\n",
    "\n",
    "url = 'http://acaca582.ngrok.io/hello_post'"
   ]
  },
  {
   "cell_type": "code",
   "execution_count": 17,
   "metadata": {},
   "outputs": [
    {
     "name": "stdout",
     "output_type": "stream",
     "text": [
      "\n",
      "    <!doctype html>\n",
      "    <title>Hello, World!</title>\n",
      "    <h1>Hello, your name is ?</h1>\n",
      "    <p></p>\n",
      "    <form action=\"/hello_post\" method=\"post\">\n",
      "    <label>Name:</label>\n",
      "    <input type=\"textbox\" name=\"username\">\n",
      "    <input type=\"submit\" value=\"Submit\">\n",
      "    </form>\n",
      "    \n"
     ]
    }
   ],
   "source": [
    "res = requests.get(url)\n",
    "print(res.text)"
   ]
  },
  {
   "cell_type": "code",
   "execution_count": 18,
   "metadata": {},
   "outputs": [
    {
     "name": "stdout",
     "output_type": "stream",
     "text": [
      "\n",
      "    <!doctype html>\n",
      "    <title>Hello, World!</title>\n",
      "    <h1>Hello, your name is ?</h1>\n",
      "    <p></p>\n",
      "    <form action=\"/hello_post\" method=\"post\">\n",
      "    <label>Name:</label>\n",
      "    <input type=\"textbox\" name=\"username\">\n",
      "    <input type=\"submit\" value=\"Submit\">\n",
      "    </form>\n",
      "    \n",
      "    <h1>Hello Allen !!</h1>\n",
      "    \n"
     ]
    }
   ],
   "source": [
    "data = {'username':'Allen'}\n",
    "res = requests.post(url, data=data)\n",
    "print(res.text)"
   ]
  },
  {
   "cell_type": "code",
   "execution_count": 21,
   "metadata": {},
   "outputs": [
    {
     "data": {
      "text/plain": [
       "'method: search\\nsearchMethod: true\\ntenderUpdate: \\nsearchTarget: \\norgName: \\norgId: \\nhid_1: 1\\ntenderName: \\ntenderId: \\ntenderType: tenderDeclaration\\ntenderWay: 1,2,3,4,5,6,7,10,12\\ntenderDateRadio: on\\ntenderStartDateStr: 109/04/20\\ntenderEndDateStr: 109/04/26\\ntenderStartDate: 109/04/26\\ntenderEndDate: 109/04/26\\nisSpdt: N\\nproctrgCate: \\nbtnQuery: 查詢\\nhadUpdated: '"
      ]
     },
     "execution_count": 21,
     "metadata": {},
     "output_type": "execute_result"
    }
   ],
   "source": [
    "#使用3層\"做成字串\n",
    "s = \"\"\"method: search\n",
    "searchMethod: true\n",
    "tenderUpdate: \n",
    "searchTarget: \n",
    "orgName: \n",
    "orgId: \n",
    "hid_1: 1\n",
    "tenderName: \n",
    "tenderId: \n",
    "tenderType: tenderDeclaration\n",
    "tenderWay: 1,2,3,4,5,6,7,10,12\n",
    "tenderDateRadio: on\n",
    "tenderStartDateStr: 109/04/20\n",
    "tenderEndDateStr: 109/04/26\n",
    "tenderStartDate: 109/04/26\n",
    "tenderEndDate: 109/04/26\n",
    "isSpdt: N\n",
    "proctrgCate: \n",
    "btnQuery: 查詢\n",
    "hadUpdated: \"\"\"\n",
    "s"
   ]
  },
  {
   "cell_type": "code",
   "execution_count": 20,
   "metadata": {},
   "outputs": [
    {
     "data": {
      "text/plain": [
       "{'method': ' search',\n",
       " 'searchMethod': ' true',\n",
       " 'tenderUpdate': ' ',\n",
       " 'searchTarget': ' ',\n",
       " 'orgName': ' ',\n",
       " 'orgId': ' ',\n",
       " 'hid_1': ' 1',\n",
       " 'tenderName': ' ',\n",
       " 'tenderId': ' ',\n",
       " 'tenderType': ' tenderDeclaration',\n",
       " 'tenderWay': ' 1,2,3,4,5,6,7,10,12',\n",
       " 'tenderDateRadio': ' on',\n",
       " 'tenderStartDateStr': ' 109/04/20',\n",
       " 'tenderEndDateStr': ' 109/04/26',\n",
       " 'tenderStartDate': ' 109/04/26',\n",
       " 'tenderEndDate': ' 109/04/26',\n",
       " 'isSpdt': ' N',\n",
       " 'proctrgCate': ' ',\n",
       " 'btnQuery': ' 查詢',\n",
       " 'hadUpdated': ' '}"
      ]
     },
     "execution_count": 20,
     "metadata": {},
     "output_type": "execute_result"
    }
   ],
   "source": [
    "data = {}\n",
    "for r in s.split('\\n'):\n",
    "    data[r.split(':')[0]] = r.split(':')[1]\n",
    "data"
   ]
  },
  {
   "cell_type": "code",
   "execution_count": 22,
   "metadata": {},
   "outputs": [
    {
     "data": {
      "text/plain": [
       "{'method': ' search',\n",
       " 'searchMethod': ' true',\n",
       " 'tenderUpdate': ' ',\n",
       " 'searchTarget': ' ',\n",
       " 'orgName': ' ',\n",
       " 'orgId': ' ',\n",
       " 'hid_1': ' 1',\n",
       " 'tenderName': ' ',\n",
       " 'tenderId': ' ',\n",
       " 'tenderType': ' tenderDeclaration',\n",
       " 'tenderWay': ' 1,2,3,4,5,6,7,10,12',\n",
       " 'tenderDateRadio': ' on',\n",
       " 'tenderStartDateStr': ' 109/04/20',\n",
       " 'tenderEndDateStr': ' 109/04/26',\n",
       " 'tenderStartDate': ' 109/04/26',\n",
       " 'tenderEndDate': ' 109/04/26',\n",
       " 'isSpdt': ' N',\n",
       " 'proctrgCate': ' ',\n",
       " 'btnQuery': ' 查詢',\n",
       " 'hadUpdated': ' '}"
      ]
     },
     "execution_count": 22,
     "metadata": {},
     "output_type": "execute_result"
    }
   ],
   "source": [
    "{r.split(':')[0]:r.split(':')[1] for r in s.split('\\n')}"
   ]
  }
 ],
 "metadata": {
  "kernelspec": {
   "display_name": "Python 3",
   "language": "python",
   "name": "python3"
  },
  "language_info": {
   "codemirror_mode": {
    "name": "ipython",
    "version": 3
   },
   "file_extension": ".py",
   "mimetype": "text/x-python",
   "name": "python",
   "nbconvert_exporter": "python",
   "pygments_lexer": "ipython3",
   "version": "3.7.7"
  }
 },
 "nbformat": 4,
 "nbformat_minor": 4
}
