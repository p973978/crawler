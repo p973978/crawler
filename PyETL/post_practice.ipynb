{
 "cells": [
  {
   "cell_type": "code",
   "execution_count": 52,
   "metadata": {},
   "outputs": [
    {
     "name": "stdout",
     "output_type": "stream",
     "text": [
      "_hidden_info 4763682600\n",
      "{\n",
      "  \"Status\": \"OK\", \n",
      "  \"td\": 0.8844103813171387\n",
      "}\n",
      "\n"
     ]
    }
   ],
   "source": [
    "import requests\n",
    "from bs4 import BeautifulSoup\n",
    "\n",
    "headers ={'User-Agent':'Mozilla/5.0 (Windows NT 10.0; Win64; x64) AppleWebKit/537.36 (KHTML, like Gecko) Chrome/81.0.4044.122 Safari/537.36'}\n",
    "\n",
    "url = 'http://acaca582.ngrok.io/practice/teb101'\n",
    "ss = requests.session() #session會自動帶入cookies,不需要自己設\n",
    "\n",
    "res = ss.get(url, headers=headers) #url預設就是url,headers則不是\n",
    "soup = BeautifulSoup(res.text, 'html.parser')\n",
    "key = soup.select('input')[1]['name']\n",
    "value = soup.select('input')[1]['value']\n",
    "print(key,value)\n",
    "data = {key: value, 'pwd':'name123'}\n",
    "res = ss.post(url, headers=headers, data=data)\n",
    "print(res.text)"
   ]
  },
  {
   "cell_type": "code",
   "execution_count": 47,
   "metadata": {},
   "outputs": [
    {
     "data": {
      "text/plain": [
       "[<input id=\"pwd\" name=\"pwd\" type=\"textbox\"/>,\n",
       " <input name=\"_hidden_info\" type=\"hidden\" value=\"4763682360\"/>,\n",
       " <input type=\"submit\" value=\"Submit\"/>]"
      ]
     },
     "execution_count": 47,
     "metadata": {},
     "output_type": "execute_result"
    }
   ],
   "source": []
  },
  {
   "cell_type": "code",
   "execution_count": 48,
   "metadata": {},
   "outputs": [
    {
     "data": {
      "text/plain": [
       "'_hidden_info'"
      ]
     },
     "execution_count": 48,
     "metadata": {},
     "output_type": "execute_result"
    }
   ],
   "source": [
    "key = soup.select('input')[1]['name']\n",
    "key"
   ]
  },
  {
   "cell_type": "code",
   "execution_count": 49,
   "metadata": {},
   "outputs": [
    {
     "data": {
      "text/plain": [
       "'4763682360'"
      ]
     },
     "execution_count": 49,
     "metadata": {},
     "output_type": "execute_result"
    }
   ],
   "source": [
    "value = soup.select('input')[1]['value']\n",
    "value"
   ]
  },
  {
   "cell_type": "code",
   "execution_count": 44,
   "metadata": {},
   "outputs": [
    {
     "data": {
      "text/plain": [
       "{'_hidden_info': '4763682303', 'pwd': 'name123'}"
      ]
     },
     "execution_count": 44,
     "metadata": {},
     "output_type": "execute_result"
    }
   ],
   "source": [
    "data = {key: value, 'pwd':'name123'}\n",
    "data"
   ]
  },
  {
   "cell_type": "code",
   "execution_count": 50,
   "metadata": {},
   "outputs": [
    {
     "name": "stdout",
     "output_type": "stream",
     "text": [
      "Bad request.\n"
     ]
    }
   ],
   "source": [
    "res = ss.post(url, headers=headers, data=data)\n",
    "print(res.text)"
   ]
  },
  {
   "cell_type": "code",
   "execution_count": 39,
   "metadata": {},
   "outputs": [],
   "source": [
    "url = 'http://acaca582.ngrok.io/practice/teb101'\n",
    "ss = requests.session()"
   ]
  }
 ],
 "metadata": {
  "kernelspec": {
   "display_name": "Python 3",
   "language": "python",
   "name": "python3"
  },
  "language_info": {
   "codemirror_mode": {
    "name": "ipython",
    "version": 3
   },
   "file_extension": ".py",
   "mimetype": "text/x-python",
   "name": "python",
   "nbconvert_exporter": "python",
   "pygments_lexer": "ipython3",
   "version": "3.7.6"
  }
 },
 "nbformat": 4,
 "nbformat_minor": 4
}
