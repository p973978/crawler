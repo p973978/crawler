{
 "cells": [
  {
   "cell_type": "code",
   "execution_count": 3,
   "metadata": {},
   "outputs": [],
   "source": [
    "import jieba\n",
    "import os\n",
    "\n",
    "flist = os.listdir('./ptt_gossiping')#開啟目錄文件\n"
   ]
  },
  {
   "cell_type": "code",
   "execution_count": 5,
   "metadata": {},
   "outputs": [
    {
     "name": "stdout",
     "output_type": "stream",
     "text": [
      "作者Gsanz (喬峰)看板Gossiping標題Re: [問卦] 台語憑什麼自稱台語？時間Thu Apr 30 11:49:52 2020\n",
      "河洛話被稱為台語或是台灣話\n",
      "\n",
      "是過去大家約定成俗的習慣用法\n",
      "\n",
      "沒有什麼資格不資格的問題\n",
      "\n",
      "就好比武漢肺炎被稱為武漢肺炎\n",
      "\n",
      "沒有什麼好爭議的\n",
      "\n",
      "只是有一些假掰的人會說\n",
      "\n",
      "要叫新冠肺炎或是COVID 19\n",
      "\n",
      "講武漢就是歧視\n",
      "\n",
      "一樣的道理\n",
      "\n",
      "--\n",
      "\n",
      "作者hushi\n"
     ]
    }
   ],
   "source": [
    "sb=''\n",
    "for f in flist:\n",
    "    if f == '.ipynb_checkpoints':\n",
    "        #skip jupyter auto saving point\n",
    "        continue\n",
    "    with open('./ptt_gossiping/'+f, 'r', encoding = 'utf-8') as file:\n",
    "        tmp_article_content = file.read()\n",
    "    sb += tmp_article_content.split('---split---')[0]\n",
    "\n",
    "print(sb[0:200])"
   ]
  },
  {
   "cell_type": "code",
   "execution_count": 11,
   "metadata": {},
   "outputs": [
    {
     "data": {
      "text/plain": [
       "['作者', 'Gsanz', ' ', '(', '喬峰', ')', '看板', 'Gossiping', '標題', 'Re']"
      ]
     },
     "execution_count": 11,
     "metadata": {},
     "output_type": "execute_result"
    }
   ],
   "source": [
    "cut_word_list = jieba.cut(sb)\n",
    "# list 表達式\n",
    "cut_word_list = [i for i in cut_word_list]\n",
    "cut_word_list[0:10]"
   ]
  },
  {
   "cell_type": "code",
   "execution_count": 22,
   "metadata": {},
   "outputs": [
    {
     "name": "stdout",
     "output_type": "stream",
     "text": [
      "['作者', 'Gsanz', ' ', '(', '喬峰', ')', '看板', 'Gossiping', '標題', 'Re']\n"
     ]
    }
   ],
   "source": [
    "word_count = {}\n",
    "for w in cut_word_list:\n",
    "    if w in word_count:\n",
    "        word_count[w] += 1\n",
    "    else:\n",
    "        word_count[w] = 1\n",
    "print([i for i in word_count.keys()][:10]) # 只印出前10個值\n",
    "# word_count.keys() #tuple"
   ]
  },
  {
   "cell_type": "code",
   "execution_count": 24,
   "metadata": {},
   "outputs": [],
   "source": [
    "wc = [(k, word_count[k]) for k in word_count] \n",
    "#save value of loop into tuple\n",
    "wc.sort(key=lambda t:t[1], reverse=True) #降冪排列"
   ]
  },
  {
   "cell_type": "code",
   "execution_count": 25,
   "metadata": {},
   "outputs": [
    {
     "data": {
      "text/plain": [
       "[(' ', 5972),\n",
       " ('\\n', 3200),\n",
       " ('，', 942),\n",
       " (':', 583),\n",
       " ('─', 504),\n",
       " ('的', 449),\n",
       " ('。', 335),\n",
       " ('￣', 269),\n",
       " ('.', 263),\n",
       " ('=', 257)]"
      ]
     },
     "execution_count": 25,
     "metadata": {},
     "output_type": "execute_result"
    }
   ],
   "source": [
    "wc[:10]"
   ]
  },
  {
   "cell_type": "code",
   "execution_count": 26,
   "metadata": {},
   "outputs": [
    {
     "data": {
      "text/plain": [
       "[('標題', 137),\n",
       " ('新聞', 127),\n",
       " ('問卦', 116),\n",
       " ('時間', 116),\n",
       " ('2020', 114),\n",
       " ('--', 114),\n",
       " ('30', 111),\n",
       " ('Gossiping', 110),\n",
       " ('作者', 106),\n",
       " ('Apr', 103)]"
      ]
     },
     "execution_count": 26,
     "metadata": {},
     "output_type": "execute_result"
    }
   ],
   "source": [
    "jieba.load_userdict('./mydict.txt')\n",
    "cut_word_list = jieba.cut(sb)\n",
    "cut_word_list = [i for i in cut_word_list]\n",
    "\n",
    "word_count = {}\n",
    "for w in cut_word_list:\n",
    "    #刪掉字長小於1的字\n",
    "    if len(w) <=1:\n",
    "        continue\n",
    "    if w in word_count:\n",
    "        word_count[w] += 1\n",
    "    else:\n",
    "        word_count[w] = 1\n",
    "        \n",
    "wc = [(k, word_count[k]) for k in word_count] \n",
    "#save value of loop into tuple\n",
    "wc.sort(key=lambda t:t[1], reverse=True) \n",
    "wc[:10]"
   ]
  },
  {
   "cell_type": "code",
   "execution_count": 29,
   "metadata": {},
   "outputs": [
    {
     "data": {
      "text/plain": [
       "['...',\n",
       " 'Sent',\n",
       " 'from',\n",
       " 'GossipPicket',\n",
       " '08',\n",
       " '06',\n",
       " '14',\n",
       " '01',\n",
       " '02',\n",
       " '03',\n",
       " '04',\n",
       " '05',\n",
       " '07',\n",
       " '10',\n",
       " '11',\n",
       " 'Gossiping',\n",
       " 'http',\n",
       " 'imgur',\n",
       " '-----',\n",
       " 'JPTT',\n",
       " 'on',\n",
       " 'PTT']"
      ]
     },
     "execution_count": 29,
     "metadata": {},
     "output_type": "execute_result"
    }
   ],
   "source": [
    "stopword_path = r'./stopword.txt'\n",
    "stopword_list = []\n",
    "with open(stopword_path, 'r', encoding = 'utf-8') as f:\n",
    "    for each_line in f.readlines():\n",
    "        stopword_list.append(each_line.replace('\\n',''))\n",
    "stopword_list"
   ]
  },
  {
   "cell_type": "code",
   "execution_count": 32,
   "metadata": {},
   "outputs": [
    {
     "data": {
      "text/plain": [
       "[('標題', 137),\n",
       " ('新聞', 127),\n",
       " ('問卦', 116),\n",
       " ('時間', 116),\n",
       " ('2020', 114),\n",
       " ('--', 114),\n",
       " ('30', 111),\n",
       " ('作者', 106),\n",
       " ('Apr', 103),\n",
       " ('水桶', 99),\n",
       " ('看板', 97),\n",
       " ('Thu', 93),\n",
       " ('文章', 74),\n",
       " ('八卦', 55),\n",
       " ('可以', 54)]"
      ]
     },
     "execution_count": 32,
     "metadata": {},
     "output_type": "execute_result"
    }
   ],
   "source": [
    "word_list = [(k, word_count[k]) for k in word_count if len(k) >1 \\\n",
    "             and k not in stopword_list]\n",
    "word_list.sort(key = lambda x: x[1], reverse = True)\n",
    "word_list[:15]"
   ]
  }
 ],
 "metadata": {
  "kernelspec": {
   "display_name": "Python 3",
   "language": "python",
   "name": "python3"
  },
  "language_info": {
   "codemirror_mode": {
    "name": "ipython",
    "version": 3
   },
   "file_extension": ".py",
   "mimetype": "text/x-python",
   "name": "python",
   "nbconvert_exporter": "python",
   "pygments_lexer": "ipython3",
   "version": "3.7.6"
  }
 },
 "nbformat": 4,
 "nbformat_minor": 4
}
