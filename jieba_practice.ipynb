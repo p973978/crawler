{
 "cells": [
  {
   "cell_type": "code",
   "execution_count": 1,
   "metadata": {},
   "outputs": [],
   "source": [
    "import jieba"
   ]
  },
  {
   "cell_type": "code",
   "execution_count": 7,
   "metadata": {},
   "outputs": [
    {
     "name": "stdout",
     "output_type": "stream",
     "text": [
      "大家|好|，|我|叫|于|庭|，|我|今天|來|台北|北商|業|大|學|上|大|數|據|班|，|天|氣|很|好|很|開|心\n",
      "大家|好|，|我|叫|于庭|，|我|今天|來|台北|商業|大學上|大數|據|班|，|天氣|很|好|很|開心\n",
      "大家|好|，|我|叫|于庭|，|我|今天|來|台北|商業|大學上|大數|據|班|，|天氣|很|好|很|開心\n",
      "大家|好|，|我|叫|于庭|，|我|今天|來|台北|商業|大學上|大數|據|班|，|天氣|很|好|很|開心\n"
     ]
    }
   ],
   "source": [
    "s = '大家好，我叫于庭，我今天來台北商業大學上大數據班，天氣很好很開心'\n",
    "\n",
    "s1_list = jieba.cut(s, cut_all = True)\n",
    "s2_list = jieba.cut(s, cut_all = False)\n",
    "s3_list = jieba.cut(s)\n",
    "s4_list = jieba.cut_for_search(s) #搜尋引勤模式\n",
    "#將list變字串\n",
    "print('|'.join(s1_list))\n",
    "print('|'.join(s2_list))\n",
    "print('|'.join(s3_list))\n",
    "print('|'.join(s4_list))"
   ]
  },
  {
   "cell_type": "code",
   "execution_count": 10,
   "metadata": {},
   "outputs": [
    {
     "name": "stdout",
     "output_type": "stream",
     "text": [
      "大家|好|，|我|叫|于|庭|，|我|今天|來|台北|台北商業大學|北商|業|大|學|上|大數據|班|，|天|氣|很|好|很|開|心\n",
      "大家|好|，|我|叫|于庭|，|我|今天|來|台北商業大學|上|大數據|班|，|天氣|很|好|很|開心\n",
      "大家|好|，|我|叫|于庭|，|我|今天|來|台北商業大學|上|大數據|班|，|天氣|很|好|很|開心\n",
      "大家|好|，|我|叫|于庭|，|我|今天|來|台北|北商|台北商業大學|上|大數據|班|，|天氣|很|好|很|開心\n"
     ]
    }
   ],
   "source": [
    "import jieba\n",
    "jieba.load_userdict('./mydict.txt')\n",
    "\n",
    "s = '大家好，我叫于庭，我今天來台北商業大學上大數據班，天氣很好很開心'\n",
    "\n",
    "s1_list = jieba.cut(s, cut_all = True)\n",
    "s2_list = jieba.cut(s, cut_all = False)\n",
    "s3_list = jieba.cut(s)\n",
    "s4_list = jieba.cut_for_search(s) #搜尋引勤模式\n",
    "#將list變字串\n",
    "print('|'.join(s1_list))\n",
    "print('|'.join(s2_list))\n",
    "print('|'.join(s3_list))\n",
    "print('|'.join(s4_list))"
   ]
  },
  {
   "cell_type": "code",
   "execution_count": null,
   "metadata": {},
   "outputs": [],
   "source": []
  }
 ],
 "metadata": {
  "kernelspec": {
   "display_name": "Python 3",
   "language": "python",
   "name": "python3"
  },
  "language_info": {
   "codemirror_mode": {
    "name": "ipython",
    "version": 3
   },
   "file_extension": ".py",
   "mimetype": "text/x-python",
   "name": "python",
   "nbconvert_exporter": "python",
   "pygments_lexer": "ipython3",
   "version": "3.7.6"
  }
 },
 "nbformat": 4,
 "nbformat_minor": 4
}
